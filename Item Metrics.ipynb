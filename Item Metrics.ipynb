{
 "cells": [
  {
   "cell_type": "code",
   "execution_count": null,
   "id": "06f6cef4",
   "metadata": {},
   "outputs": [],
   "source": [
    "dependencies = ['pandas', 'IPython', 'openpyxl']\n",
    "!pip install pandas\n",
    "!pip install IPython\n",
    "!pip install openpyxl\n",
    "import pandas as pd\n",
    "from IPython.display import clear_output, display, FileLink\n",
    "clear_output(wait=False)\n",
    "\n",
    "\n",
    "# Turn spreadsheet into a Dataframe\n",
    "# Spreadsheet should contain labled columns with list of items certain kind of items below them\n",
    "# for this case we will just use list of toys\n",
    "filename = 'List.xlsx'\n",
    "df = pd.read_excel(filename, sheet_name = 'Sheet2')\n",
    "df.head()\n",
    "\n",
    "\n",
    "# Turn data frame into a dictionary\n",
    "data_dict = df.to_dict('list')\n",
    "data_dict\n",
    "\n",
    "\n",
    "# Remove duplicate toys for each person\n",
    "for key, value in data_dict.items():    \n",
    "    data_dict[key] = set(value)\n",
    "data_dict\n",
    "\n",
    "\n",
    "# Create a set toys\n",
    "toys = set()\n",
    "for toy_list in data_dict.values():\n",
    "    for toy in toy_list:\n",
    "        if toy == toy: # Gets rid of nan values\n",
    "            toys.add(toy)\n",
    "\n",
    "\n",
    "# Create dictionary with toy metrics\n",
    "toy_metrics = {}\n",
    "for toy in toys:\n",
    "    count = 0\n",
    "    names = []\n",
    "    for key, value in data_dict.items():\n",
    "        if toy in value:\n",
    "            count += 1\n",
    "            names.append(key)\n",
    "    toy_metrics[toy] = {\"Count\": count, \"Names\":\", \".join(names)}\n",
    "    \n",
    "toy_metrics\n",
    "\n",
    "\n",
    "# Turn toy_metrics dictionary into a data frame\n",
    "finalap = pd.DataFrame(toy_metrics)\n",
    "finalap = finalap.T\n",
    "finalap.head()\n",
    "\n",
    "\n",
    "# Create final Excel and provide download link\n",
    "finalap.to_excel(r'Toy_Metrics.xlsx', sheet_name='Toy_Metrics')\n",
    "local_file = FileLink('Toy_Metrics.xlsx', result_html_prefix=\"Click here to download: \")\n",
    "display(local_file)\n"
   ]
  },
  {
   "cell_type": "code",
   "execution_count": null,
   "id": "2edcd53f",
   "metadata": {},
   "outputs": [],
   "source": [
    "finalap"
   ]
  }
 ],
 "metadata": {
  "kernelspec": {
   "display_name": "Python 3 (ipykernel)",
   "language": "python",
   "name": "python3"
  },
  "language_info": {
   "codemirror_mode": {
    "name": "ipython",
    "version": 3
   },
   "file_extension": ".py",
   "mimetype": "text/x-python",
   "name": "python",
   "nbconvert_exporter": "python",
   "pygments_lexer": "ipython3",
   "version": "3.9.5"
  }
 },
 "nbformat": 4,
 "nbformat_minor": 5
}
